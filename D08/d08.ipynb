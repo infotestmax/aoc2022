{
 "cells": [
  {
   "cell_type": "code",
   "execution_count": 1,
   "id": "29f2391a",
   "metadata": {},
   "outputs": [
    {
     "data": {
      "text/html": [
       "<div>\n",
       "<style scoped>\n",
       "    .dataframe tbody tr th:only-of-type {\n",
       "        vertical-align: middle;\n",
       "    }\n",
       "\n",
       "    .dataframe tbody tr th {\n",
       "        vertical-align: top;\n",
       "    }\n",
       "\n",
       "    .dataframe thead th {\n",
       "        text-align: right;\n",
       "    }\n",
       "</style>\n",
       "<table border=\"1\" class=\"dataframe\">\n",
       "  <thead>\n",
       "    <tr style=\"text-align: right;\">\n",
       "      <th></th>\n",
       "      <th>0</th>\n",
       "    </tr>\n",
       "  </thead>\n",
       "  <tbody>\n",
       "    <tr>\n",
       "      <th>0</th>\n",
       "      <td>30373</td>\n",
       "    </tr>\n",
       "    <tr>\n",
       "      <th>1</th>\n",
       "      <td>25512</td>\n",
       "    </tr>\n",
       "    <tr>\n",
       "      <th>2</th>\n",
       "      <td>65332</td>\n",
       "    </tr>\n",
       "    <tr>\n",
       "      <th>3</th>\n",
       "      <td>33549</td>\n",
       "    </tr>\n",
       "    <tr>\n",
       "      <th>4</th>\n",
       "      <td>35390</td>\n",
       "    </tr>\n",
       "  </tbody>\n",
       "</table>\n",
       "</div>"
      ],
      "text/plain": [
       "       0\n",
       "0  30373\n",
       "1  25512\n",
       "2  65332\n",
       "3  33549\n",
       "4  35390"
      ]
     },
     "execution_count": 1,
     "metadata": {},
     "output_type": "execute_result"
    }
   ],
   "source": [
    "import pandas as pd\n",
    "\n",
    "inputs = pd.read_csv(\"./in_test.txt\", header=None, dtype=str)\n",
    "inputs"
   ]
  },
  {
   "cell_type": "code",
   "execution_count": 2,
   "id": "7dd9cf2c",
   "metadata": {},
   "outputs": [
    {
     "name": "stdout",
     "output_type": "stream",
     "text": [
      "<class 'pandas.core.frame.DataFrame'>\n",
      "RangeIndex: 5 entries, 0 to 4\n",
      "Data columns (total 1 columns):\n",
      " #   Column  Non-Null Count  Dtype \n",
      "---  ------  --------------  ----- \n",
      " 0   0       5 non-null      object\n",
      "dtypes: object(1)\n",
      "memory usage: 168.0+ bytes\n"
     ]
    }
   ],
   "source": [
    "inputs.info()"
   ]
  },
  {
   "cell_type": "code",
   "execution_count": 3,
   "id": "31a34a9d",
   "metadata": {},
   "outputs": [
    {
     "name": "stdout",
     "output_type": "stream",
     "text": [
      "30373\n"
     ]
    },
    {
     "ename": "IndexError",
     "evalue": "string index out of range",
     "output_type": "error",
     "traceback": [
      "\u001b[0;31m---------------------------------------------------------------------------\u001b[0m",
      "\u001b[0;31mIndexError\u001b[0m                                Traceback (most recent call last)",
      "\u001b[0;32m/tmp/ipykernel_23263/2193903990.py\u001b[0m in \u001b[0;36m<module>\u001b[0;34m\u001b[0m\n\u001b[1;32m      2\u001b[0m     \u001b[0mprint\u001b[0m\u001b[0;34m(\u001b[0m\u001b[0minputs\u001b[0m\u001b[0;34m[\u001b[0m\u001b[0;36m0\u001b[0m\u001b[0;34m]\u001b[0m\u001b[0;34m[\u001b[0m\u001b[0mi_\u001b[0m\u001b[0;34m]\u001b[0m\u001b[0;34m)\u001b[0m\u001b[0;34m\u001b[0m\u001b[0;34m\u001b[0m\u001b[0m\n\u001b[1;32m      3\u001b[0m     \u001b[0;32mfor\u001b[0m \u001b[0mj_\u001b[0m \u001b[0;32min\u001b[0m \u001b[0mrange\u001b[0m\u001b[0;34m(\u001b[0m\u001b[0mlen\u001b[0m\u001b[0;34m(\u001b[0m\u001b[0minputs\u001b[0m\u001b[0;34m[\u001b[0m\u001b[0;36m0\u001b[0m\u001b[0;34m]\u001b[0m\u001b[0;34m[\u001b[0m\u001b[0mi_\u001b[0m\u001b[0;34m]\u001b[0m\u001b[0;34m)\u001b[0m\u001b[0;34m)\u001b[0m\u001b[0;34m:\u001b[0m\u001b[0;34m\u001b[0m\u001b[0;34m\u001b[0m\u001b[0m\n\u001b[0;32m----> 4\u001b[0;31m         \u001b[0minputs\u001b[0m\u001b[0;34m[\u001b[0m\u001b[0mj_\u001b[0m\u001b[0;34m]\u001b[0m\u001b[0;34m[\u001b[0m\u001b[0mi_\u001b[0m\u001b[0;34m]\u001b[0m \u001b[0;34m=\u001b[0m \u001b[0minputs\u001b[0m\u001b[0;34m[\u001b[0m\u001b[0;36m0\u001b[0m\u001b[0;34m]\u001b[0m\u001b[0;34m[\u001b[0m\u001b[0mi_\u001b[0m\u001b[0;34m]\u001b[0m\u001b[0;34m[\u001b[0m\u001b[0mj_\u001b[0m\u001b[0;34m]\u001b[0m\u001b[0;34m\u001b[0m\u001b[0;34m\u001b[0m\u001b[0m\n\u001b[0m",
      "\u001b[0;31mIndexError\u001b[0m: string index out of range"
     ]
    }
   ],
   "source": [
    "for i_ in range(inputs.size):\n",
    "    print(inputs[0][i_])\n",
    "    for j_ in range(len(inputs[0][i_])):\n",
    "        inputs[j_][i_] = inputs[0][i_][j_]"
   ]
  },
  {
   "cell_type": "code",
   "execution_count": 4,
   "id": "195a23a3",
   "metadata": {},
   "outputs": [
    {
     "data": {
      "text/plain": [
       "['30373', '25512', '65332', '33549', '35390']"
      ]
     },
     "execution_count": 4,
     "metadata": {},
     "output_type": "execute_result"
    }
   ],
   "source": [
    "with open('./in_test.txt') as data:\n",
    "    inputs = [line.strip() for line in data.readlines()]\n",
    "inputs"
   ]
  },
  {
   "cell_type": "code",
   "execution_count": 5,
   "id": "da622ccb",
   "metadata": {},
   "outputs": [
    {
     "data": {
      "text/plain": [
       "[['3', '0', '3', '7', '3'],\n",
       " ['2', '5', '5', '1', '2'],\n",
       " ['6', '5', '3', '3', '2'],\n",
       " ['3', '3', '5', '4', '9'],\n",
       " ['3', '5', '3', '9', '0']]"
      ]
     },
     "execution_count": 5,
     "metadata": {},
     "output_type": "execute_result"
    }
   ],
   "source": [
    "for i_ in range(len(inputs)):\n",
    "    inputs[i_] = [c_ for c_ in inputs[i_]]\n",
    "inputs"
   ]
  },
  {
   "cell_type": "code",
   "execution_count": 6,
   "id": "c051f28e",
   "metadata": {},
   "outputs": [
    {
     "data": {
      "text/html": [
       "<div>\n",
       "<style scoped>\n",
       "    .dataframe tbody tr th:only-of-type {\n",
       "        vertical-align: middle;\n",
       "    }\n",
       "\n",
       "    .dataframe tbody tr th {\n",
       "        vertical-align: top;\n",
       "    }\n",
       "\n",
       "    .dataframe thead th {\n",
       "        text-align: right;\n",
       "    }\n",
       "</style>\n",
       "<table border=\"1\" class=\"dataframe\">\n",
       "  <thead>\n",
       "    <tr style=\"text-align: right;\">\n",
       "      <th></th>\n",
       "      <th>0</th>\n",
       "      <th>1</th>\n",
       "      <th>2</th>\n",
       "      <th>3</th>\n",
       "      <th>4</th>\n",
       "    </tr>\n",
       "  </thead>\n",
       "  <tbody>\n",
       "    <tr>\n",
       "      <th>0</th>\n",
       "      <td>3</td>\n",
       "      <td>0</td>\n",
       "      <td>3</td>\n",
       "      <td>7</td>\n",
       "      <td>3</td>\n",
       "    </tr>\n",
       "    <tr>\n",
       "      <th>1</th>\n",
       "      <td>2</td>\n",
       "      <td>5</td>\n",
       "      <td>5</td>\n",
       "      <td>1</td>\n",
       "      <td>2</td>\n",
       "    </tr>\n",
       "    <tr>\n",
       "      <th>2</th>\n",
       "      <td>6</td>\n",
       "      <td>5</td>\n",
       "      <td>3</td>\n",
       "      <td>3</td>\n",
       "      <td>2</td>\n",
       "    </tr>\n",
       "    <tr>\n",
       "      <th>3</th>\n",
       "      <td>3</td>\n",
       "      <td>3</td>\n",
       "      <td>5</td>\n",
       "      <td>4</td>\n",
       "      <td>9</td>\n",
       "    </tr>\n",
       "    <tr>\n",
       "      <th>4</th>\n",
       "      <td>3</td>\n",
       "      <td>5</td>\n",
       "      <td>3</td>\n",
       "      <td>9</td>\n",
       "      <td>0</td>\n",
       "    </tr>\n",
       "  </tbody>\n",
       "</table>\n",
       "</div>"
      ],
      "text/plain": [
       "   0  1  2  3  4\n",
       "0  3  0  3  7  3\n",
       "1  2  5  5  1  2\n",
       "2  6  5  3  3  2\n",
       "3  3  3  5  4  9\n",
       "4  3  5  3  9  0"
      ]
     },
     "execution_count": 6,
     "metadata": {},
     "output_type": "execute_result"
    }
   ],
   "source": [
    "data = pd.DataFrame(inputs)\n",
    "data"
   ]
  },
  {
   "cell_type": "code",
   "execution_count": 7,
   "id": "56241f06",
   "metadata": {},
   "outputs": [
    {
     "data": {
      "text/html": [
       "<div>\n",
       "<style scoped>\n",
       "    .dataframe tbody tr th:only-of-type {\n",
       "        vertical-align: middle;\n",
       "    }\n",
       "\n",
       "    .dataframe tbody tr th {\n",
       "        vertical-align: top;\n",
       "    }\n",
       "\n",
       "    .dataframe thead th {\n",
       "        text-align: right;\n",
       "    }\n",
       "</style>\n",
       "<table border=\"1\" class=\"dataframe\">\n",
       "  <thead>\n",
       "    <tr style=\"text-align: right;\">\n",
       "      <th></th>\n",
       "      <th>0</th>\n",
       "      <th>1</th>\n",
       "      <th>2</th>\n",
       "      <th>3</th>\n",
       "      <th>4</th>\n",
       "    </tr>\n",
       "  </thead>\n",
       "  <tbody>\n",
       "    <tr>\n",
       "      <th>count</th>\n",
       "      <td>5</td>\n",
       "      <td>5</td>\n",
       "      <td>5</td>\n",
       "      <td>5</td>\n",
       "      <td>5</td>\n",
       "    </tr>\n",
       "    <tr>\n",
       "      <th>unique</th>\n",
       "      <td>3</td>\n",
       "      <td>3</td>\n",
       "      <td>2</td>\n",
       "      <td>5</td>\n",
       "      <td>4</td>\n",
       "    </tr>\n",
       "    <tr>\n",
       "      <th>top</th>\n",
       "      <td>3</td>\n",
       "      <td>5</td>\n",
       "      <td>3</td>\n",
       "      <td>7</td>\n",
       "      <td>2</td>\n",
       "    </tr>\n",
       "    <tr>\n",
       "      <th>freq</th>\n",
       "      <td>3</td>\n",
       "      <td>3</td>\n",
       "      <td>3</td>\n",
       "      <td>1</td>\n",
       "      <td>2</td>\n",
       "    </tr>\n",
       "  </tbody>\n",
       "</table>\n",
       "</div>"
      ],
      "text/plain": [
       "        0  1  2  3  4\n",
       "count   5  5  5  5  5\n",
       "unique  3  3  2  5  4\n",
       "top     3  5  3  7  2\n",
       "freq    3  3  3  1  2"
      ]
     },
     "execution_count": 7,
     "metadata": {},
     "output_type": "execute_result"
    }
   ],
   "source": [
    "data.describe()"
   ]
  },
  {
   "cell_type": "code",
   "execution_count": 8,
   "id": "b1989a07",
   "metadata": {},
   "outputs": [
    {
     "data": {
      "text/plain": [
       "0    3\n",
       "1    2\n",
       "2    6\n",
       "3    3\n",
       "4    3\n",
       "Name: 0, dtype: object"
      ]
     },
     "execution_count": 8,
     "metadata": {},
     "output_type": "execute_result"
    }
   ],
   "source": [
    "data[0]"
   ]
  },
  {
   "cell_type": "code",
   "execution_count": 9,
   "id": "a5379b85",
   "metadata": {},
   "outputs": [
    {
     "data": {
      "text/plain": [
       "0    3\n",
       "1    0\n",
       "2    3\n",
       "3    7\n",
       "4    3\n",
       "Name: 0, dtype: object"
      ]
     },
     "execution_count": 9,
     "metadata": {},
     "output_type": "execute_result"
    }
   ],
   "source": [
    "data.iloc[0,:]"
   ]
  },
  {
   "cell_type": "code",
   "execution_count": 10,
   "id": "607eeb69",
   "metadata": {
    "scrolled": true
   },
   "outputs": [
    {
     "data": {
      "text/plain": [
       "0    3\n",
       "1    2\n",
       "2    6\n",
       "3    3\n",
       "4    3\n",
       "Name: 0, dtype: object"
      ]
     },
     "execution_count": 10,
     "metadata": {},
     "output_type": "execute_result"
    }
   ],
   "source": [
    "data.iloc[:,0]"
   ]
  },
  {
   "cell_type": "code",
   "execution_count": 11,
   "id": "809df775",
   "metadata": {},
   "outputs": [
    {
     "data": {
      "text/plain": [
       "5"
      ]
     },
     "execution_count": 11,
     "metadata": {},
     "output_type": "execute_result"
    }
   ],
   "source": [
    "cols_len = data.describe()[0][0]\n",
    "cols_len"
   ]
  },
  {
   "cell_type": "code",
   "execution_count": 12,
   "id": "9d10f14d",
   "metadata": {},
   "outputs": [
    {
     "data": {
      "text/plain": [
       "5"
      ]
     },
     "execution_count": 12,
     "metadata": {},
     "output_type": "execute_result"
    }
   ],
   "source": [
    "rows_len = len(data.iloc[0,:])\n",
    "rows_len"
   ]
  },
  {
   "cell_type": "code",
   "execution_count": 13,
   "id": "623f9f5c",
   "metadata": {},
   "outputs": [
    {
     "data": {
      "text/plain": [
       "16"
      ]
     },
     "execution_count": 13,
     "metadata": {},
     "output_type": "execute_result"
    }
   ],
   "source": [
    "visible_edge = (cols_len + rows_len - 2) * 2\n",
    "visible_edge"
   ]
  },
  {
   "cell_type": "code",
   "execution_count": 14,
   "id": "b4948328",
   "metadata": {},
   "outputs": [
    {
     "data": {
      "text/plain": [
       "['5', '5', '1', '5', '3', '3', '3', '5', '4']"
      ]
     },
     "execution_count": 14,
     "metadata": {},
     "output_type": "execute_result"
    }
   ],
   "source": [
    "visible_inside = [data.iloc[i_][j_] for i_ in range(1,rows_len-1) for j_ in range(1,cols_len-1)]\n",
    "visible_inside\n",
    "\n",
    "        "
   ]
  },
  {
   "cell_type": "code",
   "execution_count": 15,
   "id": "d22a9348",
   "metadata": {},
   "outputs": [],
   "source": [
    "def is_visible(i_, j_):\n",
    "    cell_value = data.iloc[i_][j_]\n",
    "    print(cell_value, max(data.iloc[0:i_][j_]), max(data.iloc[i_:][j_]), max(data.iloc[i_][0:j_]), max(data.iloc[i_][j_:]))\n",
    "    print(max(data.iloc[0:i_][j_])<cell_value or max(data.iloc[i_+1:][j_])<cell_value or max(data.iloc[i_][0:j_])<cell_value or max(data.iloc[i_][j_+1:])<cell_value)\n",
    "    return (max(data.iloc[0:i_][j_])<cell_value or max(data.iloc[i_+1:][j_])<cell_value or max(data.iloc[i_][0:j_])<cell_value or max(data.iloc[i_][j_+1:])<cell_value)"
   ]
  },
  {
   "cell_type": "code",
   "execution_count": 16,
   "id": "4fea8924",
   "metadata": {},
   "outputs": [
    {
     "name": "stdout",
     "output_type": "stream",
     "text": [
      "5 0 5 2 5\n",
      "True\n",
      "5 3 5 5 5\n",
      "True\n",
      "1 7 9 5 2\n",
      "False\n",
      "5 5 5 6 5\n",
      "True\n",
      "3 5 5 6 3\n",
      "False\n",
      "3 7 9 6 3\n",
      "True\n",
      "3 5 5 3 9\n",
      "False\n",
      "5 5 5 3 9\n",
      "True\n",
      "4 7 9 5 9\n",
      "False\n"
     ]
    },
    {
     "data": {
      "text/plain": [
       "[['5', 1, 1], ['5', 1, 2], ['5', 2, 1], ['3', 2, 3], ['5', 3, 2]]"
      ]
     },
     "execution_count": 16,
     "metadata": {},
     "output_type": "execute_result"
    }
   ],
   "source": [
    "visible_inside = [[data.iloc[i_][j_], i_, j_] for i_ in range(1,rows_len-1) for j_ in range(1,cols_len-1) if is_visible(i_, j_)]\n",
    "visible_inside"
   ]
  },
  {
   "cell_type": "code",
   "execution_count": 17,
   "id": "8b73e801",
   "metadata": {},
   "outputs": [
    {
     "data": {
      "text/html": [
       "<div>\n",
       "<style scoped>\n",
       "    .dataframe tbody tr th:only-of-type {\n",
       "        vertical-align: middle;\n",
       "    }\n",
       "\n",
       "    .dataframe tbody tr th {\n",
       "        vertical-align: top;\n",
       "    }\n",
       "\n",
       "    .dataframe thead th {\n",
       "        text-align: right;\n",
       "    }\n",
       "</style>\n",
       "<table border=\"1\" class=\"dataframe\">\n",
       "  <thead>\n",
       "    <tr style=\"text-align: right;\">\n",
       "      <th></th>\n",
       "      <th>0</th>\n",
       "      <th>1</th>\n",
       "      <th>2</th>\n",
       "      <th>3</th>\n",
       "      <th>4</th>\n",
       "    </tr>\n",
       "  </thead>\n",
       "  <tbody>\n",
       "    <tr>\n",
       "      <th>0</th>\n",
       "      <td>3</td>\n",
       "      <td>0</td>\n",
       "      <td>3</td>\n",
       "      <td>7</td>\n",
       "      <td>3</td>\n",
       "    </tr>\n",
       "    <tr>\n",
       "      <th>1</th>\n",
       "      <td>2</td>\n",
       "      <td>5</td>\n",
       "      <td>5</td>\n",
       "      <td>1</td>\n",
       "      <td>2</td>\n",
       "    </tr>\n",
       "    <tr>\n",
       "      <th>2</th>\n",
       "      <td>6</td>\n",
       "      <td>5</td>\n",
       "      <td>3</td>\n",
       "      <td>3</td>\n",
       "      <td>2</td>\n",
       "    </tr>\n",
       "    <tr>\n",
       "      <th>3</th>\n",
       "      <td>3</td>\n",
       "      <td>3</td>\n",
       "      <td>5</td>\n",
       "      <td>4</td>\n",
       "      <td>9</td>\n",
       "    </tr>\n",
       "    <tr>\n",
       "      <th>4</th>\n",
       "      <td>3</td>\n",
       "      <td>5</td>\n",
       "      <td>3</td>\n",
       "      <td>9</td>\n",
       "      <td>0</td>\n",
       "    </tr>\n",
       "  </tbody>\n",
       "</table>\n",
       "</div>"
      ],
      "text/plain": [
       "   0  1  2  3  4\n",
       "0  3  0  3  7  3\n",
       "1  2  5  5  1  2\n",
       "2  6  5  3  3  2\n",
       "3  3  3  5  4  9\n",
       "4  3  5  3  9  0"
      ]
     },
     "execution_count": 17,
     "metadata": {},
     "output_type": "execute_result"
    }
   ],
   "source": [
    "data"
   ]
  },
  {
   "cell_type": "code",
   "execution_count": 18,
   "id": "a0df1b56",
   "metadata": {},
   "outputs": [
    {
     "data": {
      "text/plain": [
       "21"
      ]
     },
     "execution_count": 18,
     "metadata": {},
     "output_type": "execute_result"
    }
   ],
   "source": [
    "total_visible = visible_edge + len(visible_inside)\n",
    "total_visible"
   ]
  },
  {
   "cell_type": "code",
   "execution_count": 19,
   "id": "dbe0aea3",
   "metadata": {},
   "outputs": [],
   "source": [
    "import math\n",
    "\n",
    "def visible_range(i_, j_):\n",
    "    cell_value = data.iloc[i_][j_]\n",
    "    print('------')\n",
    "    print(cell_value, i_, j_)\n",
    "    to_check = reversed(list(data.iloc[0:i_][j_])), list(data.iloc[i_+1:][j_]), reversed(list(data.iloc[i_][0:j_])), list(data.iloc[i_][j_+1:])\n",
    "    visibility = []\n",
    "    print(to_check)\n",
    "    for l_ in to_check:\n",
    "        nested_visibility = 0\n",
    "        for n_ in l_:\n",
    "            nested_visibility += 1\n",
    "            if n_ >= cell_value:\n",
    "                break\n",
    "        visibility.append(nested_visibility)\n",
    "    print(f\"=> visibility: {visibility}\")\n",
    "    return math.prod(visibility)"
   ]
  },
  {
   "cell_type": "code",
   "execution_count": 20,
   "id": "d246b23a",
   "metadata": {},
   "outputs": [
    {
     "name": "stdout",
     "output_type": "stream",
     "text": [
      "------\n",
      "5 1 1\n",
      "(<list_reverseiterator object at 0x7f80f715f310>, ['5', '3', '5'], <list_reverseiterator object at 0x7f812f78fb20>, ['5', '1', '2'])\n",
      "=> visibility: [1, 1, 1, 1]\n",
      "------\n",
      "5 1 2\n",
      "(<list_reverseiterator object at 0x7f80f715f4f0>, ['3', '5', '3'], <list_reverseiterator object at 0x7f80f715f4c0>, ['1', '2'])\n",
      "=> visibility: [1, 2, 1, 2]\n",
      "------\n",
      "1 1 3\n",
      "(<list_reverseiterator object at 0x7f80f71754c0>, ['3', '4', '9'], <list_reverseiterator object at 0x7f80f7175220>, ['2'])\n",
      "=> visibility: [1, 1, 1, 1]\n",
      "------\n",
      "5 2 1\n",
      "(<list_reverseiterator object at 0x7f80f7175a90>, ['3', '5'], <list_reverseiterator object at 0x7f80f7175100>, ['3', '3', '2'])\n",
      "=> visibility: [1, 2, 1, 3]\n",
      "------\n",
      "3 2 2\n",
      "(<list_reverseiterator object at 0x7f80f7175b50>, ['5', '3'], <list_reverseiterator object at 0x7f80f7175c40>, ['3', '2'])\n",
      "=> visibility: [1, 1, 1, 1]\n",
      "------\n",
      "3 2 3\n",
      "(<list_reverseiterator object at 0x7f80f723b4c0>, ['4', '9'], <list_reverseiterator object at 0x7f80f723bd00>, ['2'])\n",
      "=> visibility: [2, 1, 1, 1]\n",
      "------\n",
      "3 3 1\n",
      "(<list_reverseiterator object at 0x7f80f727c9a0>, ['5'], <list_reverseiterator object at 0x7f80f727ce80>, ['5', '4', '9'])\n",
      "=> visibility: [1, 1, 1, 1]\n",
      "------\n",
      "5 3 2\n",
      "(<list_reverseiterator object at 0x7f80f727cc40>, ['3'], <list_reverseiterator object at 0x7f80f727c700>, ['4', '9'])\n",
      "=> visibility: [2, 1, 2, 2]\n",
      "------\n",
      "4 3 3\n",
      "(<list_reverseiterator object at 0x7f80f7163280>, ['9'], <list_reverseiterator object at 0x7f80f7163370>, ['9'])\n",
      "=> visibility: [3, 1, 1, 1]\n"
     ]
    },
    {
     "data": {
      "text/plain": [
       "[['5', 1, 1, 1],\n",
       " ['5', 1, 2, 4],\n",
       " ['1', 1, 3, 1],\n",
       " ['5', 2, 1, 6],\n",
       " ['3', 2, 2, 1],\n",
       " ['3', 2, 3, 2],\n",
       " ['3', 3, 1, 1],\n",
       " ['5', 3, 2, 8],\n",
       " ['4', 3, 3, 3]]"
      ]
     },
     "execution_count": 20,
     "metadata": {},
     "output_type": "execute_result"
    }
   ],
   "source": [
    "[[data.iloc[i_][j_], i_, j_, visible_range(i_, j_)] for i_ in range(1,rows_len-1) for j_ in range(1,cols_len-1)]"
   ]
  },
  {
   "cell_type": "code",
   "execution_count": 21,
   "id": "1acd1b18",
   "metadata": {},
   "outputs": [
    {
     "data": {
      "text/html": [
       "<div>\n",
       "<style scoped>\n",
       "    .dataframe tbody tr th:only-of-type {\n",
       "        vertical-align: middle;\n",
       "    }\n",
       "\n",
       "    .dataframe tbody tr th {\n",
       "        vertical-align: top;\n",
       "    }\n",
       "\n",
       "    .dataframe thead th {\n",
       "        text-align: right;\n",
       "    }\n",
       "</style>\n",
       "<table border=\"1\" class=\"dataframe\">\n",
       "  <thead>\n",
       "    <tr style=\"text-align: right;\">\n",
       "      <th></th>\n",
       "      <th>0</th>\n",
       "      <th>1</th>\n",
       "      <th>2</th>\n",
       "      <th>3</th>\n",
       "      <th>4</th>\n",
       "    </tr>\n",
       "  </thead>\n",
       "  <tbody>\n",
       "    <tr>\n",
       "      <th>0</th>\n",
       "      <td>3</td>\n",
       "      <td>0</td>\n",
       "      <td>3</td>\n",
       "      <td>7</td>\n",
       "      <td>3</td>\n",
       "    </tr>\n",
       "    <tr>\n",
       "      <th>1</th>\n",
       "      <td>2</td>\n",
       "      <td>5</td>\n",
       "      <td>5</td>\n",
       "      <td>1</td>\n",
       "      <td>2</td>\n",
       "    </tr>\n",
       "    <tr>\n",
       "      <th>2</th>\n",
       "      <td>6</td>\n",
       "      <td>5</td>\n",
       "      <td>3</td>\n",
       "      <td>3</td>\n",
       "      <td>2</td>\n",
       "    </tr>\n",
       "    <tr>\n",
       "      <th>3</th>\n",
       "      <td>3</td>\n",
       "      <td>3</td>\n",
       "      <td>5</td>\n",
       "      <td>4</td>\n",
       "      <td>9</td>\n",
       "    </tr>\n",
       "    <tr>\n",
       "      <th>4</th>\n",
       "      <td>3</td>\n",
       "      <td>5</td>\n",
       "      <td>3</td>\n",
       "      <td>9</td>\n",
       "      <td>0</td>\n",
       "    </tr>\n",
       "  </tbody>\n",
       "</table>\n",
       "</div>"
      ],
      "text/plain": [
       "   0  1  2  3  4\n",
       "0  3  0  3  7  3\n",
       "1  2  5  5  1  2\n",
       "2  6  5  3  3  2\n",
       "3  3  3  5  4  9\n",
       "4  3  5  3  9  0"
      ]
     },
     "execution_count": 21,
     "metadata": {},
     "output_type": "execute_result"
    }
   ],
   "source": [
    "data"
   ]
  },
  {
   "cell_type": "code",
   "execution_count": null,
   "id": "470f715f",
   "metadata": {},
   "outputs": [],
   "source": []
  }
 ],
 "metadata": {
  "kernelspec": {
   "display_name": "Python 3.8.12 64-bit ('lewagon')",
   "language": "python",
   "name": "python3"
  },
  "language_info": {
   "codemirror_mode": {
    "name": "ipython",
    "version": 3
   },
   "file_extension": ".py",
   "mimetype": "text/x-python",
   "name": "python",
   "nbconvert_exporter": "python",
   "pygments_lexer": "ipython3",
   "version": "3.8.12"
  },
  "toc": {
   "base_numbering": 1,
   "nav_menu": {},
   "number_sections": true,
   "sideBar": true,
   "skip_h1_title": false,
   "title_cell": "Table of Contents",
   "title_sidebar": "Contents",
   "toc_cell": false,
   "toc_position": {},
   "toc_section_display": true,
   "toc_window_display": false
  },
  "vscode": {
   "interpreter": {
    "hash": "7306f8dc858eb22955c15d25ee012d0c2bbaebf7a33a626cb717fed647551e32"
   }
  }
 },
 "nbformat": 4,
 "nbformat_minor": 5
}
